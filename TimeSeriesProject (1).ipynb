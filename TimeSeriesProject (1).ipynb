{
  "nbformat": 4,
  "nbformat_minor": 0,
  "metadata": {
    "colab": {
      "private_outputs": true,
      "provenance": [],
      "cell_execution_strategy": "setup"
    },
    "kernelspec": {
      "name": "python3",
      "display_name": "Python 3"
    },
    "language_info": {
      "name": "python"
    }
  },
  "cells": [
    {
      "cell_type": "code",
      "execution_count": null,
      "metadata": {
        "id": "x4MYcmaMC_Ay"
      },
      "outputs": [],
      "source": [
        "import pandas as pd"
      ]
    },
    {
      "cell_type": "code",
      "source": [
        "import numpy as np\n",
        "import matplotlib.pyplot as plt\n",
        "import seaborn as sns"
      ],
      "metadata": {
        "id": "5miS_dlYEnoM"
      },
      "execution_count": null,
      "outputs": []
    },
    {
      "cell_type": "code",
      "source": [
        "import glob"
      ],
      "metadata": {
        "id": "gYrHK0eWEsMG"
      },
      "execution_count": null,
      "outputs": []
    },
    {
      "cell_type": "code",
      "source": [
        "files = glob.glob(\"C:\\\\Users\\\\savan\\\\Downloads\\\\DataAnlytProjects\\\\TimeSeries\\\\S&P_resources\\\\individual_stocks_5yr\\\\*\")\n",
        "print(files)\n"
      ],
      "metadata": {
        "id": "n07Qjp1SQYCk"
      },
      "execution_count": null,
      "outputs": []
    },
    {
      "cell_type": "code",
      "source": [
        "files = glob.glob(\"C:\\\\Users\\\\savan\\\\Downloads\\\\DataAnlytProjects\\\\TimeSeries\\\\S&P_resources\\\\individual_stocks_5yr\\\\*\")\n",
        "print(files)\n"
      ],
      "metadata": {
        "id": "FQQoXZMsQgsG"
      },
      "execution_count": null,
      "outputs": []
    },
    {
      "cell_type": "code",
      "source": [
        "import glob\n",
        "\n",
        "files = glob.glob('/content/drive/MyDrive/DataAnlytProjects/TimeSeries/S&P_resources/individual_stocks_5yr')\n",
        "print(files)\n"
      ],
      "metadata": {
        "id": "uXzx_x-gQ0LI"
      },
      "execution_count": null,
      "outputs": []
    },
    {
      "cell_type": "code",
      "source": [
        "import glob\n",
        "\n",
        "csv_files = glob.glob('/content/drive/MyDrive/DataAnlytProjects/TimeSeries/S&P_resources/individual_stocks_5yr/*.csv')\n",
        "print(csv_files)\n"
      ],
      "metadata": {
        "id": "JLXXKRMPYGGe"
      },
      "execution_count": null,
      "outputs": []
    },
    {
      "cell_type": "code",
      "source": [
        "from google.colab import drive\n",
        "import glob\n",
        "\n",
        "drive.mount('/content/drive')\n",
        "\n",
        "csv_files = glob.glob('/content/drive/MyDrive/DataAnlytProjects/TimeSeries/S&P_resources/individual_stocks_5yr/*.csv')\n",
        "print(\"Total CSV files:\", len(csv_files))\n"
      ],
      "metadata": {
        "id": "RvxfZw4uY637"
      },
      "execution_count": null,
      "outputs": []
    },
    {
      "cell_type": "code",
      "source": [
        "company_list = [\n",
        "    '/content/drive/MyDrive/DataAnlytProjects/TimeSeries/S&P_resources/individual_stocks_5yr/AAPL_data.csv',\n",
        "    '/content/drive/MyDrive/DataAnlytProjects/TimeSeries/S&P_resources/individual_stocks_5yr/AMZN_data.csv',\n",
        "    '/content/drive/MyDrive/DataAnlytProjects/TimeSeries/S&P_resources/individual_stocks_5yr/GOOG_data.csv',\n",
        "    '/content/drive/MyDrive/DataAnlytProjects/TimeSeries/S&P_resources/individual_stocks_5yr/MSFT_data.csv'\n",
        "]\n"
      ],
      "metadata": {
        "id": "BkX8-Aqh64lz"
      },
      "execution_count": null,
      "outputs": []
    },
    {
      "cell_type": "code",
      "source": [
        "## use Warnings package to get rid of any future warning ..\n",
        "\n",
        "import warnings\n",
        "from warnings import filterwarnings\n",
        "filterwarnings('ignore')"
      ],
      "metadata": {
        "id": "nStA4hUy6VZi"
      },
      "execution_count": null,
      "outputs": []
    },
    {
      "cell_type": "code",
      "source": [
        "### in the utube case-study , we have used pandas concat() to collect data from various files ..\n",
        "## so this time , lets use pandas append() to do same task.."
      ],
      "metadata": {
        "id": "7j8WM4Il6WrT"
      },
      "execution_count": null,
      "outputs": []
    },
    {
      "cell_type": "code",
      "source": [
        "import pandas as pd\n",
        "\n",
        "all_data = pd.DataFrame()  # empty DataFrame to start\n",
        "\n",
        "for file in company_list:\n",
        "    current_df = pd.read_csv(file)\n",
        "    # Use pd.concat instead of append\n",
        "    all_data = pd.concat([all_data, current_df], ignore_index=True)\n",
        "\n",
        "print(all_data.head())\n"
      ],
      "metadata": {
        "id": "HXMEGT8P7ChN"
      },
      "execution_count": null,
      "outputs": []
    },
    {
      "cell_type": "code",
      "source": [
        "all_data.shape ## dimensions of all_data dataframe .."
      ],
      "metadata": {
        "id": "s9YfHg2_7IN2"
      },
      "execution_count": null,
      "outputs": []
    },
    {
      "cell_type": "code",
      "source": [
        "all_data.head(6)"
      ],
      "metadata": {
        "id": "jd3Idzwz7XP6"
      },
      "execution_count": null,
      "outputs": []
    },
    {
      "cell_type": "code",
      "source": [
        "all_data['Name'].unique()"
      ],
      "metadata": {
        "id": "70lpbfsN7dp7"
      },
      "execution_count": null,
      "outputs": []
    },
    {
      "cell_type": "markdown",
      "source": [
        "# 2.Analysing change in price of the stock overtime"
      ],
      "metadata": {
        "id": "vfwIaBOn7tDD"
      }
    },
    {
      "cell_type": "code",
      "source": [
        "all_data.isnull().sum() ## checking missing values"
      ],
      "metadata": {
        "id": "kH1q4h-F78Oz"
      },
      "execution_count": null,
      "outputs": []
    },
    {
      "cell_type": "code",
      "source": [
        "all_data.dtypes ## checking data-types"
      ],
      "metadata": {
        "id": "iq1YvfxY8EmC"
      },
      "execution_count": null,
      "outputs": []
    },
    {
      "cell_type": "code",
      "source": [
        "all_data['date'] = pd.to_datetime(all_data['date']) ## converting data-type of \"date\" featuer into date-time .."
      ],
      "metadata": {
        "id": "zTtKZhE98F_0"
      },
      "execution_count": null,
      "outputs": []
    },
    {
      "cell_type": "code",
      "source": [
        "all_data['date']"
      ],
      "metadata": {
        "id": "7YKxuP6-8JKT"
      },
      "execution_count": null,
      "outputs": []
    },
    {
      "cell_type": "code",
      "source": [
        "tech_list = all_data['Name'].unique()"
      ],
      "metadata": {
        "id": "iku9YwSm8Pzn"
      },
      "execution_count": null,
      "outputs": []
    },
    {
      "cell_type": "code",
      "source": [
        "tech_list"
      ],
      "metadata": {
        "id": "hSgoDSta8TUe"
      },
      "execution_count": null,
      "outputs": []
    },
    {
      "cell_type": "code",
      "source": [
        "plt.figure(figsize=(20,12))\n",
        "\n",
        "for index , company in enumerate(tech_list , 1):\n",
        "    plt.subplot(2 , 2 , index) ## creating subplot for each stock\n",
        "    filter1 = all_data['Name']==company\n",
        "    df = all_data[filter1]\n",
        "    plt.plot(df['date'] , df['close']) ## plotting \"date\" vs \"close\"\n",
        "    plt.title(company)"
      ],
      "metadata": {
        "id": "w2vnYHef8W5f"
      },
      "execution_count": null,
      "outputs": []
    },
    {
      "cell_type": "markdown",
      "source": [
        "#"
      ],
      "metadata": {
        "id": "xmj2KiVN8gIK"
      }
    },
    {
      "cell_type": "markdown",
      "source": [
        "# 3.Moving average of the various stock !"
      ],
      "metadata": {
        "id": "Yi-LoHz98pf9"
      }
    },
    {
      "cell_type": "code",
      "source": [
        "all_data.head(15)"
      ],
      "metadata": {
        "id": "TBOCtjKl8m-R"
      },
      "execution_count": null,
      "outputs": []
    },
    {
      "cell_type": "code",
      "source": [
        "all_data['close'].rolling(window=10).mean().head(14)"
      ],
      "metadata": {
        "id": "z2i14xTI83VD"
      },
      "execution_count": null,
      "outputs": []
    },
    {
      "cell_type": "code",
      "source": [
        "new_data = all_data.copy()"
      ],
      "metadata": {
        "id": "G-zt_nFv87N4"
      },
      "execution_count": null,
      "outputs": []
    },
    {
      "cell_type": "code",
      "source": [
        "#### now lets consider different windows of rolling ,ie 10 days ,20 days ,30 days\n",
        "ma_day = [10 ,20 , 50]\n",
        "\n",
        "for ma in ma_day:\n",
        "    new_data['close_'+str(ma)] = new_data['close'].rolling(ma).mean()"
      ],
      "metadata": {
        "id": "JKcLTBzZ88P5"
      },
      "execution_count": null,
      "outputs": []
    },
    {
      "cell_type": "markdown",
      "source": [],
      "metadata": {
        "id": "8OEDSENq8uVw"
      }
    },
    {
      "cell_type": "code",
      "source": [
        "new_data.tail(7)"
      ],
      "metadata": {
        "id": "dvr1yMUj8_rk"
      },
      "execution_count": null,
      "outputs": []
    },
    {
      "cell_type": "code",
      "source": [
        "new_data.set_index('date' , inplace=True)"
      ],
      "metadata": {
        "id": "rjkU8tL19H9H"
      },
      "execution_count": null,
      "outputs": []
    },
    {
      "cell_type": "code",
      "source": [
        "new_data"
      ],
      "metadata": {
        "id": "OObC9_1j9LJs"
      },
      "execution_count": null,
      "outputs": []
    },
    {
      "cell_type": "code",
      "source": [
        "new_data.columns"
      ],
      "metadata": {
        "id": "PuU-XqNV9Mb3"
      },
      "execution_count": null,
      "outputs": []
    },
    {
      "cell_type": "code",
      "source": [
        "plt.figure(figsize=(20,16))\n",
        "\n",
        "for index , company in enumerate(tech_list , 1):\n",
        "    plt.subplot(2 , 2 , index)\n",
        "    filter1 = new_data['Name']==company\n",
        "    df = new_data[filter1]\n",
        "    df[['close_10','close_20', 'close_50']].plot(ax=plt.gca())\n",
        "    plt.title(company)"
      ],
      "metadata": {
        "id": "xHj28OTY9QHi"
      },
      "execution_count": null,
      "outputs": []
    },
    {
      "cell_type": "code",
      "source": [],
      "metadata": {
        "id": "7FKql-mk9qw1"
      },
      "execution_count": null,
      "outputs": []
    },
    {
      "cell_type": "markdown",
      "source": [
        "\n",
        "## 4.. analyse Closing price change in apple stock !\n",
        "##### Daily Stock Return Formula\n",
        "    To calculate how much you gained or lost per day for a stock, subtract the opening price from the closing price. Then, multiply the result by the number of shares you own in the company."
      ],
      "metadata": {
        "id": "AJb3Dn2G9uLR"
      }
    },
    {
      "cell_type": "code",
      "source": [
        "company_list\n"
      ],
      "metadata": {
        "id": "NP2y3QNn9-Ng"
      },
      "execution_count": null,
      "outputs": []
    },
    {
      "cell_type": "code",
      "source": [
        "apple = pd.read_csv('/content/drive/MyDrive/DataAnlytProjects/TimeSeries/S&P_resources/individual_stocks_5yr/AAPL_data.csv')\n"
      ],
      "metadata": {
        "id": "92hGlJRF-WWv"
      },
      "execution_count": null,
      "outputs": []
    },
    {
      "cell_type": "code",
      "source": [
        "apple.head(4)"
      ],
      "metadata": {
        "id": "Z8RZ9NOD-pKi"
      },
      "execution_count": null,
      "outputs": []
    },
    {
      "cell_type": "code",
      "source": [
        "apple['close']"
      ],
      "metadata": {
        "id": "oZJR0EWd-qy5"
      },
      "execution_count": null,
      "outputs": []
    },
    {
      "cell_type": "code",
      "source": [
        "apple.head(4)"
      ],
      "metadata": {
        "id": "o_J6KvTz-uIQ"
      },
      "execution_count": null,
      "outputs": []
    },
    {
      "cell_type": "code",
      "source": [
        "apple['Daily return(in %)'] = apple['close'].pct_change() * 100\n",
        "\n",
        "### pct_change() returns : Percentage change between the current and a prior element."
      ],
      "metadata": {
        "id": "gIL8TRIF-x2R"
      },
      "execution_count": null,
      "outputs": []
    },
    {
      "cell_type": "code",
      "source": [
        "apple.head(4)"
      ],
      "metadata": {
        "id": "JN_ywE7M-1Ik"
      },
      "execution_count": null,
      "outputs": []
    },
    {
      "cell_type": "code",
      "source": [
        "import plotly.express as px"
      ],
      "metadata": {
        "id": "HTse2zUi-4L_"
      },
      "execution_count": null,
      "outputs": []
    },
    {
      "cell_type": "code",
      "source": [
        "px.line(apple , x=\"date\" , y=\"Daily return(in %)\") ## Plotting Line-plot of \"date\" vs \"Daily return(in %)\".."
      ],
      "metadata": {
        "id": "IhbY_ArH-_gV"
      },
      "execution_count": null,
      "outputs": []
    },
    {
      "cell_type": "markdown",
      "source": [
        "# ## 5.. Performing resampling analysis of closing price ..\n",
        "\n",
        "\n",
        "\n",
        "\n",
        "    Before doing resampling,first u have to make your date feature 'row-index' so that u can resample data on various basis :\n",
        "    \n",
        "    a..yearly('Y')  ,\n",
        "    b..quarterly('Q')   ,\n",
        "    c..monthly('M') ,\n",
        "    d..weekly basis ('W'),\n",
        "    e..Daily_basis('D')  \n",
        "    f..minutes ('3T') ,\n",
        "    g..30 second bins('30S')   ,\n",
        "    h..resample('17min')"
      ],
      "metadata": {
        "id": "JLNcVIc6_G7L"
      }
    },
    {
      "cell_type": "code",
      "source": [
        "apple.dtypes"
      ],
      "metadata": {
        "id": "DPg3Advc_K5O"
      },
      "execution_count": null,
      "outputs": []
    },
    {
      "cell_type": "code",
      "source": [
        "apple['date'] =pd.to_datetime(apple['date'])"
      ],
      "metadata": {
        "id": "AGYeR7Oy_iDj"
      },
      "execution_count": null,
      "outputs": []
    },
    {
      "cell_type": "code",
      "source": [
        "apple.dtypes"
      ],
      "metadata": {
        "id": "Wbkl36Es_jGi"
      },
      "execution_count": null,
      "outputs": []
    },
    {
      "cell_type": "code",
      "source": [
        "apple.head(4)"
      ],
      "metadata": {
        "id": "1Mx5Gvop_nVx"
      },
      "execution_count": null,
      "outputs": []
    },
    {
      "cell_type": "code",
      "source": [
        "apple.set_index('date' , inplace=True)"
      ],
      "metadata": {
        "id": "1HoqZ1uS_rzS"
      },
      "execution_count": null,
      "outputs": []
    },
    {
      "cell_type": "code",
      "source": [
        "apple.head(4)"
      ],
      "metadata": {
        "id": "b6JFI0UC_vrC"
      },
      "execution_count": null,
      "outputs": []
    },
    {
      "cell_type": "code",
      "source": [
        "apple['close'].resample('M').mean() ## resample data on monthly basis .."
      ],
      "metadata": {
        "id": "ZSP50BUP_0eE"
      },
      "execution_count": null,
      "outputs": []
    },
    {
      "cell_type": "code",
      "source": [
        "apple['close'].resample('M').mean().plot()"
      ],
      "metadata": {
        "id": "nDVPaul9_33Y"
      },
      "execution_count": null,
      "outputs": []
    },
    {
      "cell_type": "code",
      "source": [
        "apple['close'].resample('Y').mean() ## resample data on Yearly basis .."
      ],
      "metadata": {
        "id": "XweWL2uH_75-"
      },
      "execution_count": null,
      "outputs": []
    },
    {
      "cell_type": "code",
      "source": [
        "apple['close'].resample('Y').mean().plot()"
      ],
      "metadata": {
        "id": "9bDNpAP6__ii"
      },
      "execution_count": null,
      "outputs": []
    },
    {
      "cell_type": "code",
      "source": [
        "apple['close'].resample('Q').mean() ## resample data on Quarterly basis .."
      ],
      "metadata": {
        "id": "i6gi9TCaADXW"
      },
      "execution_count": null,
      "outputs": []
    },
    {
      "cell_type": "code",
      "source": [
        "apple['close'].resample('Q').mean().plot()"
      ],
      "metadata": {
        "id": "mVceWmvjAGon"
      },
      "execution_count": null,
      "outputs": []
    },
    {
      "cell_type": "code",
      "source": [],
      "metadata": {
        "id": "bnTsWs95AKdc"
      },
      "execution_count": null,
      "outputs": []
    },
    {
      "cell_type": "markdown",
      "source": [
        "# ## 6.. Whether closing prices of these tech companies (Amazon,Apple,Google,Microsoft) are correlated or not !"
      ],
      "metadata": {
        "id": "dLYDI1G6ARbL"
      }
    },
    {
      "cell_type": "code",
      "source": [
        "company_list"
      ],
      "metadata": {
        "id": "jJuMXQzTAUC4"
      },
      "execution_count": null,
      "outputs": []
    },
    {
      "cell_type": "code",
      "source": [
        "company_list[0]"
      ],
      "metadata": {
        "id": "-5XgKRv9AX0Q"
      },
      "execution_count": null,
      "outputs": []
    },
    {
      "cell_type": "code",
      "source": [
        "app = pd.read_csv(company_list[0])\n",
        "amzn = pd.read_csv(company_list[1])\n",
        "google = pd.read_csv(company_list[2])\n",
        "msft = pd.read_csv(company_list[3])"
      ],
      "metadata": {
        "id": "bPEnzLL-Ab9I"
      },
      "execution_count": null,
      "outputs": []
    },
    {
      "cell_type": "code",
      "source": [
        "closing_price = pd.DataFrame()"
      ],
      "metadata": {
        "id": "fjGMT8b4Afow"
      },
      "execution_count": null,
      "outputs": []
    },
    {
      "cell_type": "code",
      "source": [
        "closing_price['apple_close'] = app['close']\n",
        "closing_price['amzn_close'] = amzn['close']\n",
        "closing_price['goog_close'] = google['close']\n",
        "closing_price['msft_close'] = msft['close']"
      ],
      "metadata": {
        "id": "oW2ctrxbAjUt"
      },
      "execution_count": null,
      "outputs": []
    },
    {
      "cell_type": "code",
      "source": [
        "closing_price"
      ],
      "metadata": {
        "id": "rmXGn1nnAmjG"
      },
      "execution_count": null,
      "outputs": []
    },
    {
      "cell_type": "code",
      "source": [
        "'''\n",
        "    Pair-plot is all about , we can considering some pairs &\n",
        "    we are trying to plot scatterplot of it..\n",
        "\n",
        "    Unique plots : 4c2 = 6 unique plots\n",
        "\n",
        "    Total plots : 15 ( 6 unique + 6 mirror images of these\n",
        "    unique one + 3 diagonal plots(histogram))\n",
        "\n",
        "'''\n",
        "\n",
        "\n",
        "# Dis-advantages:\n",
        "## Can't be used when number of features are high.\n",
        "## Cannot visualize higher dimensional patterns in 3-D and 4-D.\n",
        "## Only possible to view 2D patterns.\n",
        "\n",
        "\n",
        "\n",
        "# NOTE: the diagnol elements are (histogram) for each feature."
      ],
      "metadata": {
        "id": "BsYr5HwHAp_B"
      },
      "execution_count": null,
      "outputs": []
    },
    {
      "cell_type": "code",
      "source": [
        "sns.pairplot(closing_price)"
      ],
      "metadata": {
        "id": "yE-W-BtDAunn"
      },
      "execution_count": null,
      "outputs": []
    },
    {
      "cell_type": "code",
      "source": [
        "closing_price.corr()"
      ],
      "metadata": {
        "id": "uwEFwJE2A3LD"
      },
      "execution_count": null,
      "outputs": []
    },
    {
      "cell_type": "code",
      "source": [],
      "metadata": {
        "id": "Hw3huAW4A4Wx"
      },
      "execution_count": null,
      "outputs": []
    },
    {
      "cell_type": "markdown",
      "source": [
        "# #### co-relation plot for stock prices"
      ],
      "metadata": {
        "id": "wh5Ou8iBA96w"
      }
    },
    {
      "cell_type": "code",
      "source": [
        "sns.heatmap(closing_price.corr() , annot=True)"
      ],
      "metadata": {
        "id": "W_7WDENDBABJ"
      },
      "execution_count": null,
      "outputs": []
    },
    {
      "cell_type": "code",
      "source": [
        "'''\n",
        "\n",
        "Conclusions :\n",
        "Closing price of Google and Microsoft are well correlated\n",
        "& Closing price of Amazon and Microsoft have a co-relation of 0.96\n",
        "\n",
        "\n",
        "'''"
      ],
      "metadata": {
        "id": "uc3KFAzlBFAM"
      },
      "execution_count": null,
      "outputs": []
    },
    {
      "cell_type": "code",
      "source": [],
      "metadata": {
        "id": "8SJKUs9_BJ6l"
      },
      "execution_count": null,
      "outputs": []
    },
    {
      "cell_type": "markdown",
      "source": [
        "# ## 7.. analyse Whether Daily change in Closing price of stocks or Daily Returns in Stock are co-related or not !"
      ],
      "metadata": {
        "id": "bxubLDIIBOYD"
      }
    },
    {
      "cell_type": "code",
      "source": [
        "closing_price"
      ],
      "metadata": {
        "id": "00L6pkJnBQ-a"
      },
      "execution_count": null,
      "outputs": []
    },
    {
      "cell_type": "code",
      "source": [
        "closing_price['apple_close']"
      ],
      "metadata": {
        "id": "iw7Dv4fCBaNq"
      },
      "execution_count": null,
      "outputs": []
    },
    {
      "cell_type": "code",
      "source": [
        "closing_price['apple_close'].shift(1)"
      ],
      "metadata": {
        "id": "wAlV7r0mBarx"
      },
      "execution_count": null,
      "outputs": []
    },
    {
      "cell_type": "code",
      "source": [
        "(closing_price['apple_close'] - closing_price['apple_close'].shift(1))/closing_price['apple_close'].shift(1) * 100"
      ],
      "metadata": {
        "id": "Ulh_jGe_BhO_"
      },
      "execution_count": null,
      "outputs": []
    },
    {
      "cell_type": "code",
      "source": [
        "for col in closing_price.columns:\n",
        "    closing_price[col + '_pct_change'] = (closing_price[col] - closing_price[col].shift(1))/closing_price[col].shift(1) * 100"
      ],
      "metadata": {
        "id": "kcjLAO1hBlDp"
      },
      "execution_count": null,
      "outputs": []
    },
    {
      "cell_type": "code",
      "source": [
        "closing_price"
      ],
      "metadata": {
        "id": "Cvivb-aMBoYp"
      },
      "execution_count": null,
      "outputs": []
    },
    {
      "cell_type": "code",
      "source": [
        "closing_price.columns"
      ],
      "metadata": {
        "id": "8_uHqDbsBrwy"
      },
      "execution_count": null,
      "outputs": []
    },
    {
      "cell_type": "code",
      "source": [
        "clsing_p = closing_price[['apple_close_pct_change', 'amzn_close_pct_change',\n",
        "       'goog_close_pct_change', 'msft_close_pct_change']]"
      ],
      "metadata": {
        "id": "RncCNS5ZBzEY"
      },
      "execution_count": null,
      "outputs": []
    },
    {
      "cell_type": "code",
      "source": [
        "clsing_p"
      ],
      "metadata": {
        "id": "x92ejLVZB3af"
      },
      "execution_count": null,
      "outputs": []
    },
    {
      "cell_type": "code",
      "source": [
        "### since we have used Pairplot already , lets use extension of Pairplot , ie Pairgrid :"
      ],
      "metadata": {
        "id": "_eYXFtiFB44C"
      },
      "execution_count": null,
      "outputs": []
    },
    {
      "cell_type": "code",
      "source": [
        "'''\n",
        "Pairplot : we have histogram on diagonals & scatterplot/kde/\n",
        "            any_other_plot which tells dist.. on rest of the plot\n",
        "\n",
        "\n",
        "Pairgrid : Once we create grid , we can set plot as per our need :\n",
        "\n",
        "ie , if we have 4 features , it creates total 16 graphs/plots or matrices of 4*4\n",
        "\n",
        "\n",
        "\n",
        "    There would be various possibilities for type of plots in our Pairgrid which we can set as per our need :\n",
        "\n",
        "    a) all plots can be scatterplot\n",
        "    b) on diagonal , we have histogram & rest will be scatterplot\n",
        "    c) on diagonal , we have histogram & rest will be kdeplot\n",
        "    c) on diagonal , we have histogram & below diagonal will be kdeplot\n",
        "            & upper diagonal will be scatterplot\n",
        "\n",
        "Note :: kdeplot for 2 features also known as contour plots which returns density\n",
        "but kdeplot returns distribution if we are performing univariate analysis else it will show density ..\n",
        "\n",
        "'''"
      ],
      "metadata": {
        "id": "ehvnyKSEB79n"
      },
      "execution_count": null,
      "outputs": []
    },
    {
      "cell_type": "code",
      "source": [
        "g = sns.PairGrid(data= clsing_p)\n",
        "g.map_diag(sns.histplot)\n",
        "g.map_lower(sns.scatterplot)\n",
        "g.map_upper(sns.kdeplot)"
      ],
      "metadata": {
        "id": "X21_A-HNB_oL"
      },
      "execution_count": null,
      "outputs": []
    },
    {
      "cell_type": "code",
      "source": [
        "'''\n",
        "\n",
        "Conclusion :\n",
        "While Comparing 'AAPL_close_pct_change' to 'AMZN_close_pct_change'  , it shows a linear relationship upto some extent..\n",
        "\n",
        "\n",
        "'''"
      ],
      "metadata": {
        "id": "JTLrU5A_CHd1"
      },
      "execution_count": null,
      "outputs": []
    },
    {
      "cell_type": "code",
      "source": [
        "clsing_p.corr()"
      ],
      "metadata": {
        "id": "9zdogbbLCIR2"
      },
      "execution_count": null,
      "outputs": []
    }
  ]
}